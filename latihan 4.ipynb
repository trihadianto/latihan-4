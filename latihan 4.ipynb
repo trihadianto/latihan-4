{
 "cells": [
  {
   "cell_type": "code",
   "execution_count": 8,
   "id": "112b304e",
   "metadata": {},
   "outputs": [
    {
     "name": "stdout",
     "output_type": "stream",
     "text": [
      "13\n",
      "7\n",
      "30\n",
      "3.3333333333333335\n",
      "1\n",
      "1000\n",
      "3\n"
     ]
    }
   ],
   "source": [
    "a, b = 10, 3\n",
    "\n",
    "#pertambahan\n",
    "print(a+b)\n",
    "\n",
    "#perkurangan\n",
    "print(a-b)\n",
    "\n",
    "#divisi\n",
    "print(a*b)\n",
    "\n",
    "#perkalian\n",
    "print(a/b)\n",
    "\n",
    "#modulus\n",
    "print(a%b)\n",
    "\n",
    "#eksponen\n",
    "print(a**b)\n",
    "\n",
    "#floor\n",
    "print(a//b)"
   ]
  },
  {
   "cell_type": "code",
   "execution_count": 14,
   "id": "d9e5546d",
   "metadata": {},
   "outputs": [
    {
     "name": "stdout",
     "output_type": "stream",
     "text": [
      "a = 10 -> 10\n",
      "a += 5 -> 15\n",
      "a -= 3 -> 12\n",
      "a *= 6 -> 72\n",
      "a /= 8 -> 9.0\n"
     ]
    }
   ],
   "source": [
    "a = 10\n",
    "print('a = 10 ->', a)\n",
    "\n",
    "a += 5\n",
    "print('a += 5 ->', a)\n",
    "\n",
    "a -= 3\n",
    "print('a -= 3 ->', a)\n",
    "\n",
    "a *= 6\n",
    "print('a *= 6 ->', a)\n",
    "\n",
    "a /= 8\n",
    "print('a /= 8 ->', a)"
   ]
  },
  {
   "cell_type": "code",
   "execution_count": 20,
   "id": "74576609",
   "metadata": {},
   "outputs": [
    {
     "name": "stdout",
     "output_type": "stream",
     "text": [
      "20.5\n"
     ]
    }
   ],
   "source": [
    "#latihan\n",
    "\n",
    "print (5*2**2+10/20)\n"
   ]
  },
  {
   "cell_type": "code",
   "execution_count": 23,
   "id": "3107c55f",
   "metadata": {},
   "outputs": [
    {
     "name": "stdout",
     "output_type": "stream",
     "text": [
      "5 > 10 = False\n",
      "5 < 10 = True\n",
      "5 == 10 = False\n"
     ]
    }
   ],
   "source": [
    "a, b = 5, 10\n",
    "\n",
    "print(a, '>', b, '=', a > b)\n",
    "print(a, '<', b, '=', a < b)\n",
    "print(a, '==', b, '=', a == b)"
   ]
  },
  {
   "cell_type": "code",
   "execution_count": 59,
   "id": "40941735",
   "metadata": {},
   "outputs": [
    {
     "name": "stdout",
     "output_type": "stream",
     "text": [
      "400 < 100 = False\n",
      "10 * 2 = 20 True\n",
      "50 > 10 = True\n",
      "50 * 2 != 100 False\n",
      "2x3x4 >= 24 True\n"
     ]
    }
   ],
   "source": [
    "#latihan\n",
    "a, b = 400, 100\n",
    "\n",
    "print('400 < 100 =', 400 < 100)\n",
    "print('10 * 2 = 20', 10*2==20)\n",
    "print('50 > 10 =', 50 > 10)\n",
    "print('50 * 2 != 100', 50*2!=100)\n",
    "print('2x3x4 >= 24', 2*3*4>=24)"
   ]
  },
  {
   "cell_type": "code",
   "execution_count": 48,
   "id": "977e5f6e",
   "metadata": {},
   "outputs": [
    {
     "name": "stdout",
     "output_type": "stream",
     "text": [
      "nilai_1 and nilai_2 =False\n"
     ]
    }
   ],
   "source": [
    "#operator logika\n",
    "\n",
    "a < 16 and b < 32 \n",
    "\n",
    "nilai_1 = True\n",
    "nilai_2 = False\n",
    "nilai_3 = True\n",
    "print(\"nilai_1 and nilai_2 =\" + str(nilai_1 and nilai_2))"
   ]
  },
  {
   "cell_type": "code",
   "execution_count": 57,
   "id": "170c0856",
   "metadata": {},
   "outputs": [
    {
     "name": "stdout",
     "output_type": "stream",
     "text": [
      "murah and diskon =True\n",
      "tidak laku = False\n"
     ]
    }
   ],
   "source": [
    "#latihan\n",
    "\n",
    "murah = True\n",
    "diskon = True\n",
    "\n",
    "\n",
    "print(\"murah and diskon =\"+ str(murah and diskon))\n",
    "print(\"tidak laku =\", str(not murah))\n"
   ]
  },
  {
   "cell_type": "code",
   "execution_count": 67,
   "id": "61828911",
   "metadata": {},
   "outputs": [
    {
     "name": "stdout",
     "output_type": "stream",
     "text": [
      "a is b: True\n",
      "a is not b: False\n",
      "list_a is list_b False\n",
      "list_a == list_b: True\n",
      "nama_a is nama_b: True\n",
      "nama_a is not nama_b: False\n"
     ]
    }
   ],
   "source": [
    "a = 5\n",
    "b = 5\n",
    "list_a = (1, 2, 3)\n",
    "list_b = (1, 2, 3)\n",
    "nama_a = 'budi'\n",
    "nama_b = 'budi'\n",
    "\n",
    "#output True\n",
    "print('a is b:', a is b)\n",
    "#output False\n",
    "print('a is not b:', a is not b)\n",
    "\n",
    "#output False\n",
    "print('list_a is list_b', list_a is list_b)\n",
    "#output True\n",
    "print('list_a == list_b:', list_a == list_b)\n",
    "\n",
    "#output True\n",
    "print('nama_a is nama_b:', nama_a is nama_b)\n",
    "#ouput False\n",
    "print('nama_a is not nama_b:', nama_a is not nama_b)"
   ]
  },
  {
   "cell_type": "code",
   "execution_count": 80,
   "id": "c90bb016",
   "metadata": {},
   "outputs": [
    {
     "name": "stdout",
     "output_type": "stream",
     "text": [
      "apakah 'M' ada di variabel perusahaan? True\n",
      "apakah 'e' ada di variabel perusahaan? False\n",
      "apakah 'tri' ada di variabel mahasiswa? False\n"
     ]
    }
   ],
   "source": [
    "#latihan lagi\n",
    "\n",
    "perusahaan = 'Mobile legend'\n",
    "list_pulau = ('jawa', 'Sumatra', 'Sulawesi')\n",
    "\n",
    "mahasiswa ={\n",
    "    'nama': 'Tri hartanto',\n",
    "    'asal': 'Nagrak'\n",
    "}\n",
    "\n",
    "print(\n",
    "    \"apakah 'M' ada di variabel perusahaan?\",\n",
    "    'M' in perusahaan\n",
    ")\n",
    "print(\n",
    "    \"apakah 'e' ada di variabel perusahaan?\",\n",
    "    'e' not in perusahaan)\n",
    "print(\n",
    "    \"apakah 'tri' ada di variabel mahasiswa?\",\n",
    "    'tri' in mahasiswa)"
   ]
  },
  {
   "cell_type": "code",
   "execution_count": 90,
   "id": "9431fd28",
   "metadata": {},
   "outputs": [
    {
     "name": "stdout",
     "output_type": "stream",
     "text": [
      "00000000\n",
      "00000001\n",
      "00000010\n",
      "00100101\n"
     ]
    },
    {
     "data": {
      "text/plain": [
       "100101"
      ]
     },
     "execution_count": 90,
     "metadata": {},
     "output_type": "execute_result"
    }
   ],
   "source": [
    "#biner dari angka 0\n",
    "print(format(0, '08b'))\n",
    "0\n",
    "\n",
    "#biner dari angka 1\n",
    "print(format(1, '08b'))\n",
    "1\n",
    "\n",
    "#biner dari angka 2\n",
    "print(format(2, '08b'))\n",
    "10\n",
    "\n",
    "#biner dari angka 37\n",
    "print(format(37, '08b'))\n",
    "100101"
   ]
  },
  {
   "cell_type": "code",
   "execution_count": 92,
   "id": "4f54f288",
   "metadata": {},
   "outputs": [
    {
     "name": "stdout",
     "output_type": "stream",
     "text": [
      "huruf h = 01101000\n",
      "huruf e = 01100101\n",
      "hururf l = 01010000\n",
      "huruf l = 01010000\n",
      "huruf o = 01101111\n"
     ]
    }
   ],
   "source": [
    "#latihan terakhir hari ini\n",
    "#biner dari huruf H\n",
    "print('huruf h =', format(104, '08b'))\n",
    "\n",
    "#biner dari huruf E\n",
    "print('huruf e =', format(101, '08b'))\n",
    "\n",
    "#biner dari huruf L\n",
    "print('hururf l =', format(80, '08b'))\n",
    "\n",
    "#biner dari huruf L\n",
    "print('huruf l =', format(80, '08b'))\n",
    "\n",
    "#biner dari huruf O\n",
    "print('huruf o =', format(111, '08b'))\n"
   ]
  },
  {
   "cell_type": "code",
   "execution_count": null,
   "id": "dac913bd",
   "metadata": {},
   "outputs": [],
   "source": []
  }
 ],
 "metadata": {
  "kernelspec": {
   "display_name": "Python 3 (ipykernel)",
   "language": "python",
   "name": "python3"
  },
  "language_info": {
   "codemirror_mode": {
    "name": "ipython",
    "version": 3
   },
   "file_extension": ".py",
   "mimetype": "text/x-python",
   "name": "python",
   "nbconvert_exporter": "python",
   "pygments_lexer": "ipython3",
   "version": "3.9.12"
  }
 },
 "nbformat": 4,
 "nbformat_minor": 5
}
